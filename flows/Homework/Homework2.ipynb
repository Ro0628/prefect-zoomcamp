{
 "cells": [
  {
   "cell_type": "markdown",
   "metadata": {},
   "source": [
    "# Homework Week 2"
   ]
  },
  {
   "attachments": {},
   "cell_type": "markdown",
   "metadata": {},
   "source": [
    "### Question 1: 447770\n",
    "\n",
    "\n",
    "(zoomcamp) Ronaldas-MacBook-Pro:prefect-zoomcamp ronaldajohnson$ python flows/Homework/etl_web_to_gcs.py \n",
    "18:04:40.771 | INFO    | prefect.engine - Created flow run 'invaluable-markhor' for flow 'etl-web-to-gcs'\n",
    "18:04:40.898 | INFO    | Flow run 'invaluable-markhor' - Created task run 'fetch-0' for task 'fetch'\n",
    "18:04:40.899 | INFO    | Flow run 'invaluable-markhor' - Executing 'fetch-0' immediately...\n",
    "/Users/ronaldajohnson/Data Engineering/Projects/prefect-zoomcamp/flows/Homework/etl_web_to_gcs.py:14: DtypeWarning: Columns (3) have mixed types. Specify dtype option on import or set low_memory=False.\n",
    "  df = pd.read_csv(dataset_url)\n",
    "18:04:43.410 | INFO    | Task run 'fetch-0' - Finished in state Completed()\n",
    "18:04:43.436 | INFO    | Flow run 'invaluable-markhor' - Created task run 'clean-0' for task 'clean'\n",
    "18:04:43.436 | INFO    | Flow run 'invaluable-markhor' - Executing 'clean-0' immediately...\n",
    "18:04:43.640 | INFO    | Task run 'clean-0' -    VendorID  ... congestion_surcharge\n",
    "0       2.0  ...                  0.0\n",
    "1       2.0  ...                  0.0\n",
    "\n",
    "[2 rows x 20 columns]\n",
    "18:04:43.642 | INFO    | Task run 'clean-0' - columns: VendorID                        float64\n",
    "lpep_pickup_datetime     datetime64[ns]\n",
    "lpep_dropoff_datetime    datetime64[ns]\n",
    "store_and_fwd_flag               object\n",
    "RatecodeID                      float64\n",
    "PULocationID                      int64\n",
    "DOLocationID                      int64\n",
    "passenger_count                 float64\n",
    "trip_distance                   float64\n",
    "fare_amount                     float64\n",
    "extra                           float64\n",
    "mta_tax                         float64\n",
    "tip_amount                      float64\n",
    "tolls_amount                    float64\n",
    "ehail_fee                       float64\n",
    "improvement_surcharge           float64\n",
    "total_amount                    float64\n",
    "payment_type                    float64\n",
    "trip_type                       float64\n",
    "congestion_surcharge            float64\n",
    "dtype: object\n",
    "18:04:43.643 | INFO    | Task run 'clean-0' - rows: 447770\n",
    "18:04:43.667 | INFO    | Task run 'clean-0' - Finished in state Completed()\n",
    "18:04:43.691 | INFO    | Flow run 'invaluable-markhor' - Created task run 'write_local-0' for task 'write_local'\n",
    "18:04:43.692 | INFO    | Flow run 'invaluable-markhor' - Executing 'write_local-0' immediately...\n",
    "18:04:44.814 | INFO    | Task run 'write_local-0' - Finished in state Completed()\n",
    "18:04:44.841 | INFO    | Flow run 'invaluable-markhor' - Created task run 'write_gcs-0' for task 'write_gcs'\n",
    "18:04:44.842 | INFO    | Flow run 'invaluable-markhor' - Executing 'write_gcs-0' immediately...\n",
    "18:04:44.925 | INFO    | Task run 'write_gcs-0' - Getting bucket 'ro_prefect_de_zoomcamp'.\n",
    "18:04:45.292 | INFO    | Task run 'write_gcs-0' - Uploading from PosixPath('data/green/green_tripdata_2020-01.parquet') to the bucket 'ro_prefect_de_zoomcamp' path 'data/green/green_tripdata_2020-01.parquet'.\n",
    "18:04:51.483 | INFO    | Task run 'write_gcs-0' - Finished in state Completed()\n",
    "18:04:51.509 | INFO    | Flow run 'invaluable-markhor' - Finished in state Completed('All states completed.')\n",
    "(zoomcamp) Ronaldas-MacBook-Pro:prefect-zoomcamp ronaldajohnson$ "
   ]
  },
  {
   "attachments": {},
   "cell_type": "markdown",
   "metadata": {},
   "source": [
    "###  Question #2: 051**\n",
    "\n",
    " Ronaldas-MacBook-Pro:prefect-zoomcamp ronaldajohnson$ prefect deployment build flows/Homework/parameterized_flow.py:etl_parent_flow -n etlgreen --cron \"0 5  1 * *\" -a\n",
    "Found flow 'etl-parent-flow'\n",
    "Deployment YAML created at '/Users/ronaldajohnson/Data \n",
    "Engineering/Projects/prefect-zoomcamp/etl_parent_flow-deployment.yaml'.\n",
    "Deployment storage None does not have upload capabilities; no files uploaded.  Pass \n",
    "--skip-upload to suppress this warning.\n",
    "Deployment 'etl-parent-flow/etlgreen' successfully created with id \n",
    "'a63e89ca-73d7-4d6e-9693-d3789ccb6514'.\n",
    "\n",
    "To execute flow runs from this deployment, start an agent that pulls work from the \n",
    "'default' work queue:\n",
    "$ prefect agent start -q 'default'\n",
    "(zoomcamp) Ronaldas-MacBook-Pro:prefect-zoomcamp ronaldajohnson$ "
   ]
  },
  {
   "attachments": {},
   "cell_type": "markdown",
   "metadata": {},
   "source": [
    "### Question #3: 14,851,920\n",
    "\n",
    "(zoomcamp) Ronaldas-MacBook-Pro:prefect-zoomcamp ronaldajohnson$ python flows/Homework/etl_gcs_to_bq.py -p \"months=[2,3]\" \"color=yellow\" \"year=2019\"\n",
    "22:25:38.252 | INFO    | prefect.engine - Created flow run 'armored-bird' for flow 'etl-parent-flow'\n",
    "22:25:38.453 | INFO    | Flow run 'armored-bird' - Created subflow run 'gainful-hornet' for flow 'etl-gcs-to-bq'\n",
    "22:25:38.528 | INFO    | Flow run 'gainful-hornet' - Created task run 'extract_from_gcs-0' for task 'extract_from_gcs'\n",
    "22:25:38.529 | INFO    | Flow run 'gainful-hornet' - Executing 'extract_from_gcs-0' immediately...\n",
    "22:25:38.970 | INFO    | Task run 'extract_from_gcs-0' - Downloading blob named data/yellow/yellow_tripdata_2019-02.parquet from the ro_prefect_de_zoomcamp bucket to ../data/data/yellow/yellow_tripdata_2019-02.parquet\n",
    "22:25:41.208 | INFO    | Task run 'extract_from_gcs-0' - Finished in state Completed()\n",
    "22:25:41.237 | INFO    | Flow run 'gainful-hornet' - Created task run 'transform-0' for task 'transform'\n",
    "22:25:41.238 | INFO    | Flow run 'gainful-hornet' - Executing 'transform-0' immediately...\n",
    "Transforming to Data Frame\n",
    "22:25:43.530 | INFO    | Task run 'transform-0' - Finished in state Completed()\n",
    "Rows processed: 7019375\n",
    "22:25:43.556 | INFO    | Flow run 'gainful-hornet' - Created task run 'write_bq-0' for task 'write_bq'\n",
    "22:25:43.557 | INFO    | Flow run 'gainful-hornet' - Executing 'write_bq-0' immediately...\n",
    "22:27:58.460 | INFO    | Task run 'write_bq-0' - Finished in state Completed()\n",
    "22:27:58.508 | INFO    | Flow run 'gainful-hornet' - Finished in state Completed('All states completed.')\n",
    "22:27:58.593 | INFO    | Flow run 'armored-bird' - Created subflow run 'illegal-okapi' for flow 'etl-gcs-to-bq'\n",
    "22:27:58.666 | INFO    | Flow run 'illegal-okapi' - Created task run 'extract_from_gcs-0' for task 'extract_from_gcs'\n",
    "22:27:58.667 | INFO    | Flow run 'illegal-okapi' - Executing 'extract_from_gcs-0' immediately...\n",
    "22:27:59.063 | INFO    | Task run 'extract_from_gcs-0' - Downloading blob named data/yellow/yellow_tripdata_2019-03.parquet from the ro_prefect_de_zoomcamp bucket to ../data/data/yellow/yellow_tripdata_2019-03.parquet\n",
    "22:28:01.445 | INFO    | Task run 'extract_from_gcs-0' - Finished in state Completed()\n",
    "22:28:01.473 | INFO    | Flow run 'illegal-okapi' - Created task run 'transform-0' for task 'transform'\n",
    "22:28:01.474 | INFO    | Flow run 'illegal-okapi' - Executing 'transform-0' immediately...\n",
    "Transforming to Data Frame\n",
    "22:28:04.254 | INFO    | Task run 'transform-0' - Finished in state Completed()\n",
    "Rows processed: 7832545\n",
    "22:28:04.329 | INFO    | Flow run 'illegal-okapi' - Created task run 'write_bq-0' for task 'write_bq'\n",
    "22:28:04.330 | INFO    | Flow run 'illegal-okapi' - Executing 'write_bq-0' immediately...\n",
    "22:30:32.764 | INFO    | Task run 'write_bq-0' - Finished in state Completed()\n",
    "22:30:32.891 | INFO    | Flow run 'illegal-okapi' - Finished in state Completed('All states completed.')\n",
    "22:30:32.969 | INFO    | Flow run 'armored-bird' - Finished in state Completed('All states completed.')\n"
   ]
  },
  {
   "attachments": {},
   "cell_type": "markdown",
   "metadata": {},
   "source": [
    "### Question 4: 88605\n",
    "\n",
    "https://github.com/Ro0628/prefect-zoomcamp/blob/main/flows/Homework/git_etl_web_to_gcs.py\n",
    "https://github.com/Ro0628/prefect-zoomcamp/blob/main/flows/Homework/etl_web_to_gcs.py\n",
    "\n",
    "Flow Run Logs: \n",
    "\n",
    "Downloading flow code from storage at None\n",
    "12:41:27 AM\n",
    "Created task run 'fetch-ba00c645-0' for task 'fetch'\n",
    "12:41:28 AM\n",
    "Executing 'fetch-ba00c645-0' immediately...\n",
    "12:41:28 AM\n",
    "Finished in state Completed()\n",
    "12:41:29 AM\n",
    "fetch-ba00c645-0\n",
    "Created task run 'clean-2c6af9f6-0' for task 'clean'\n",
    "12:41:30 AM\n",
    "Executing 'clean-2c6af9f6-0' immediately...\n",
    "12:41:30 AM\n",
    "   VendorID lpep_pickup_datetime  ... trip_type congestion_surcharge\n",
    "0       2.0  2020-11-01 00:08:23  ...       1.0                 2.75\n",
    "1       2.0  2020-11-01 00:23:32  ...       1.0                 0.00\n",
    "\n",
    "[2 rows x 20 columns]\n",
    "12:41:30 AM\n",
    "clean-2c6af9f6-0\n",
    ".......\n",
    "Rows processed: 88605\n",
    "12:41:30 AM\n",
    "clean-2c6af9f6-0\n",
    "Finished in state Completed()\n",
    "12:41:30 AM\n",
    "clean-2c6af9f6-0\n",
    "Created task run 'write_local-09e9d2b8-0' for task 'write_local'\n",
    "12:41:30 AM\n",
    "Executing 'write_local-09e9d2b8-0' immediately...\n",
    "12:41:30 AM\n",
    "Finished in state Completed()\n",
    "12:41:30 AM\n",
    "write_local-09e9d2b8-0\n",
    "Created task run 'write_gcs-67f8f48e-0' for task 'write_gcs'\n",
    "12:41:30 AM\n",
    "Executing 'write_gcs-67f8f48e-0' immediately...\n",
    "12:41:30 AM\n",
    "Getting bucket 'ro_prefect_de_zoomcamp'.\n",
    "12:41:30 AM\n",
    "write_gcs-67f8f48e-0\n",
    "Uploading from PosixPath('data/green/green_tripdata_2020-11.parquet') to the bucket 'ro_prefect_de_zoomcamp' path 'data/green/green_tripdata_2020-11.parquet'.\n",
    "12:41:30 AM\n",
    "write_gcs-67f8f48e-0\n",
    "Finished in state Completed()\n",
    "12:41:32 AM\n",
    "write_gcs-67f8f48e-0\n",
    "Finished in state Completed('All states completed.')"
   ]
  },
  {
   "cell_type": "markdown",
   "metadata": {},
   "source": []
  },
  {
   "cell_type": "markdown",
   "metadata": {},
   "source": []
  },
  {
   "attachments": {},
   "cell_type": "markdown",
   "metadata": {},
   "source": []
  }
 ],
 "metadata": {
  "kernelspec": {
   "display_name": "zoomcamp",
   "language": "python",
   "name": "python3"
  },
  "language_info": {
   "codemirror_mode": {
    "name": "ipython",
    "version": 3
   },
   "file_extension": ".py",
   "mimetype": "text/x-python",
   "name": "python",
   "nbconvert_exporter": "python",
   "pygments_lexer": "ipython3",
   "version": "3.9.16"
  },
  "toc": {
   "base_numbering": 1,
   "nav_menu": {},
   "number_sections": true,
   "sideBar": true,
   "skip_h1_title": false,
   "title_cell": "Table of Contents",
   "title_sidebar": "Contents",
   "toc_cell": false,
   "toc_position": {},
   "toc_section_display": true,
   "toc_window_display": false
  },
  "varInspector": {
   "cols": {
    "lenName": 16,
    "lenType": 16,
    "lenVar": 40
   },
   "kernels_config": {
    "python": {
     "delete_cmd_postfix": "",
     "delete_cmd_prefix": "del ",
     "library": "var_list.py",
     "varRefreshCmd": "print(var_dic_list())"
    },
    "r": {
     "delete_cmd_postfix": ") ",
     "delete_cmd_prefix": "rm(",
     "library": "var_list.r",
     "varRefreshCmd": "cat(var_dic_list()) "
    }
   },
   "types_to_exclude": [
    "module",
    "function",
    "builtin_function_or_method",
    "instance",
    "_Feature"
   ],
   "window_display": false
  },
  "vscode": {
   "interpreter": {
    "hash": "1daf82df345b714b34d400414b9c432f0363024296e698e127d1ffd020c0a83e"
   }
  }
 },
 "nbformat": 4,
 "nbformat_minor": 4
}
